{
 "nbformat": 4,
 "nbformat_minor": 0,
 "metadata": {
  "colab": {
   "name": "lab03.ipynb",
   "provenance": [],
   "collapsed_sections": [],
   "authorship_tag": "ABX9TyP1BBHDMnmPaFh14OU2IwMx",
   "include_colab_link": true
  },
  "kernelspec": {
   "name": "python3",
   "display_name": "Python 3"
  },
  "language_info": {
   "name": "python"
  }
 },
 "cells": [
  {
   "cell_type": "markdown",
   "metadata": {
    "id": "view-in-github",
    "colab_type": "text",
    "pycharm": {
     "name": "#%% md\n"
    }
   },
   "source": [
    "<a href=\"https://colab.research.google.com/gist/udvzol/63f79c574a88500480846805e9681af5/lab03.ipynb\" target=\"_parent\"><img src=\"https://colab.research.google.com/assets/colab-badge.svg\" alt=\"Open In Colab\"/></a>"
   ]
  },
  {
   "cell_type": "markdown",
   "metadata": {
    "id": "Jp4J8Pk4B4Os",
    "pycharm": {
     "name": "#%% md\n"
    }
   },
   "source": [
    "# Supervised learning introduction, K-Nearest Neighbors (KNN)\n",
    "\n",
    "Your task will be to predict wine quality from physicochemical features with the help of the \n",
    "[Wine Quality Data Set](https://archive.ics.uci.edu/ml/datasets/Wine+Quality). You will have to do it both as a regression and classification task. \n",
    "\n",
    "\n",
    "-------\n",
    "\n",
    "###1. Read data\n",
    "  - Read the provided winequality-red.csv file. \n",
    "  - Check for missing values and that all entries are numerical. Also, check for duplicated entries (rows) and drop them.  \n",
    "  - Use all columns except the last as features and the quality column as target. \n",
    "  - Make 80-20% train test split (use sklearn).\n",
    "  - Prepare a one-hot encoded version of the y_test and y_train values ie. make a six long vector of the 6 quality classes (3-8), with only one non-zero value, e.g. 3->[1,0,0,0,0,0], 4->[0,1,0,0,0,0], 5->[0,0,1,0,0,0] etc. (You can use pandas or sklearn for that.) *You will have to use the one-hot encoded labels in the classification exercise only.*\n",
    "  - Normalize the features by substracting the means and dividing by the standard deviation feature by feature. If you want to be very precise, you should use only the mean and std in the training set for normalization, because generally the test test is not available at training time.\n",
    "\n",
    "----\n",
    "\n",
    "###2. KNN regression\n",
    "- Implement naive K nearest neighbour regression as a function only using python and numpy. The signature of the function should be:\n",
    "```python\n",
    "def knn_regression(x_test, x_train, y_train, k=20):\n",
    "        \"\"\"Return prediction with knn regression.\"\"\"\n",
    "        .\n",
    "        .\n",
    "        .\n",
    "        return y_pred\n",
    "```\n",
    "- Use Euclidean distance as a measure of distance.\n",
    "- Make prediction with k=20 for the test set using the training data.\n",
    "- Plot the true and the predicted values from the test set on a scatterplot.\n",
    "\n",
    "-----\n",
    "\n",
    "### 3. Weighted KNN regression\n",
    "- Modify the knn_regression function by adding a weight to each neighbor that is inversely proportional to the distance.\n",
    "```python\n",
    "def knn_weighted_regression(x_test,x_train,y_train,k=20):\n",
    "    \"\"\"Return prediction with weighted knn regression.\"\"\"\n",
    "    ...\n",
    "    return y_pred\n",
    "```\n",
    "- Make prediction with k=20 for the test set using the training data.\n",
    "- Plot the true and the predicted values from the test set on a scatterplot.\n",
    "\n",
    "-----\n",
    "\n",
    "### 4. KNN classification\n",
    "- Implement the K-nearest neighbors classification algorithm using only pure Python3 and numpy! Use L2 distance to find the neighbors. The prediction for each class should be the number of neighbors supporting the given class divided by k (for example if k is 5 and we have 3 neighbors for class A, 2 for class B and 0 for class C neighbors, then the prediction for class A should be 3/5, for class B 2/5, for class C 0/5). Use the one-hot encoded labels!\n",
    "```python\n",
    "def knn_classifier(X_train, y_train, X_test, k=20):\n",
    "  \"\"\"Return prediction with knn classification.\"\"\"\n",
    "    ...\n",
    "    return y_pred\n",
    "```\n",
    "\n",
    "- Make prediction with k=20 for the test set using the training data.\n",
    "\n",
    "-----\n",
    "\n",
    "### 5. Compare the models\n",
    "- Make a baseline model: this can be the mean value of the training labels for every sample.\n",
    "- Compare the regression and classification models to the baseline: You can do this by rounding the continous predictions of the regression to the nearest integer. Calculate the accuracy (fraction of correctly classified samples) of the models.\n",
    "- Check your KNN implementations by running the sklearn built-in model. \n",
    "You can run it for any model you implented. The predictions should be the same as yours. Some help:\n",
    "  ```python\n",
    "  from sklearn.neighbors import KNeighborsRegressor, KNeighborsClassifier\n",
    "  knn= KNeighborsRegressor(20, weights=\"distance\")\n",
    "  #knn= KNeighborsClassifier(20, weights=\"uniform\")\n",
    "  knn.fit(X_train, y_train)\n",
    "  knn.predict(X_test)\n",
    "  ```\n",
    "- Write down your observations.\n",
    "----\n",
    "### Hints:\n",
    "- On total you can get 10 points for fully completing all tasks.\n",
    "- Decorate your notebook with questions, explanation etc, make it self contained and understandable!\n",
    "- Comment your code when necessary!\n",
    "- Write functions for repetitive tasks!\n",
    "- Use the pandas package for data loading and handling\n",
    "- Use matplotlib and seaborn for plotting or bokeh and plotly for interactive investigation\n",
    "- Use the scikit learn package for almost everything\n",
    "- Use for loops only if it is really necessary!\n",
    "- Code sharing is not allowed between students! Sharing code will result in zero points.\n",
    "- If you use code found on web, it is OK, but, make its source clear!"
   ]
  },
  {
   "cell_type": "markdown",
   "metadata": {
    "id": "DNvEbg0dDP1M",
    "pycharm": {
     "name": "#%% md\n"
    }
   },
   "source": [
    "## Solution\n",
    "### 1."
   ]
  },
  {
   "cell_type": "code",
   "metadata": {
    "colab": {
     "base_uri": "https://localhost:8080/"
    },
    "id": "MKRrVvdLDYrn",
    "outputId": "f58b3b9b-ad7d-4417-e52d-08ab8d1c3a59",
    "pycharm": {
     "name": "#%%\n"
    }
   },
   "source": [
    "import pandas as pd\n",
    "from collections import Counter\n",
    "from sklearn.metrics import confusion_matrix\n",
    "from sklearn.model_selection import train_test_split\n",
    "from sklearn.preprocessing import OneHotEncoder\n",
    "\n",
    "%pylab inline"
   ],
   "execution_count": 1,
   "outputs": [
    {
     "output_type": "stream",
     "name": "stdout",
     "text": [
      "Populating the interactive namespace from numpy and matplotlib\n"
     ]
    }
   ]
  },
  {
   "cell_type": "code",
   "metadata": {
    "id": "bU3jRz2OBu9y",
    "pycharm": {
     "name": "#%%\n"
    }
   },
   "source": [
    "data=pd.read_csv(\"winequality-red.csv\", sep=\";\")\n",
    "data.drop_duplicates(inplace=True)"
   ],
   "execution_count": 2,
   "outputs": []
  },
  {
   "cell_type": "code",
   "metadata": {
    "colab": {
     "base_uri": "https://localhost:8080/"
    },
    "id": "-V4h-4ZQFd-P",
    "outputId": "4a7b8908-9cfa-4cb4-a829-6e9c4fc6c8a0",
    "pycharm": {
     "name": "#%%\n"
    }
   },
   "source": [
    "print(data.dtypes)"
   ],
   "execution_count": 4,
   "outputs": [
    {
     "output_type": "stream",
     "name": "stdout",
     "text": [
      "fixed acidity           float64\n",
      "volatile acidity        float64\n",
      "citric acid             float64\n",
      "residual sugar          float64\n",
      "chlorides               float64\n",
      "free sulfur dioxide     float64\n",
      "total sulfur dioxide    float64\n",
      "density                 float64\n",
      "pH                      float64\n",
      "sulphates               float64\n",
      "alcohol                 float64\n",
      "quality                   int64\n",
      "dtype: object\n"
     ]
    }
   ]
  },
  {
   "cell_type": "code",
   "metadata": {
    "colab": {
     "base_uri": "https://localhost:8080/"
    },
    "id": "V6ICvTawFhyW",
    "outputId": "0a3d0c3e-a126-4043-e268-7441a1f68c1c",
    "pycharm": {
     "name": "#%%\n"
    }
   },
   "source": [
    "data.isna().any()"
   ],
   "execution_count": 5,
   "outputs": [
    {
     "output_type": "execute_result",
     "data": {
      "text/plain": [
       "fixed acidity           False\n",
       "volatile acidity        False\n",
       "citric acid             False\n",
       "residual sugar          False\n",
       "chlorides               False\n",
       "free sulfur dioxide     False\n",
       "total sulfur dioxide    False\n",
       "density                 False\n",
       "pH                      False\n",
       "sulphates               False\n",
       "alcohol                 False\n",
       "quality                 False\n",
       "dtype: bool"
      ]
     },
     "metadata": {},
     "execution_count": 5
    }
   ]
  },
  {
   "cell_type": "code",
   "metadata": {
    "id": "VFtdu_YHFlt-",
    "pycharm": {
     "name": "#%%\n"
    }
   },
   "source": [
    "X_train, X_test, y_train, y_test = train_test_split(data[data.columns[:-1]].values, data[data.columns[-1]], test_size=0.2, random_state=42)\n",
    "X_test=(X_test-X_train.mean(0))/X_train.std(0)\n",
    "X_train=(X_train-X_train.mean(0))/X_train.std(0)"
   ],
   "execution_count": 6,
   "outputs": []
  },
  {
   "cell_type": "code",
   "metadata": {
    "id": "ilExFzOUGXdw",
    "pycharm": {
     "name": "#%%\n"
    }
   },
   "source": [
    "#one-hot encoded y\n",
    "y_test_ohe = pd.get_dummies(y_test).values\n",
    "y_train_ohe = pd.get_dummies(y_train).values"
   ],
   "execution_count": 7,
   "outputs": []
  },
  {
   "cell_type": "markdown",
   "metadata": {
    "id": "fAZhpapfKfYw",
    "pycharm": {
     "name": "#%% md\n"
    }
   },
   "source": [
    "### 2. KNN regression"
   ]
  },
  {
   "cell_type": "code",
   "metadata": {
    "id": "OqpcLEkl6tOk",
    "pycharm": {
     "name": "#%%\n"
    }
   },
   "source": [
    "# The distance to use in the KNN, the euclidean distance\n",
    "def distances(x1,x2):\n",
    "    d2=(x1-x2)**2\n",
    "    return np.sqrt(np.sum(d2, axis=1))\n",
    "\n",
    "def knn_regression(x_test,x_train,y_train, k=10):\n",
    "    \n",
    "    y_pred=[]\n",
    "    #for every instance in the test sample get the predicted value\n",
    "    for x2 in x_test:\n",
    "        #calculate the distance from all points in the training set\n",
    "        d_t=distances(x2,x_train)\n",
    "        #Give back the index of the k smallest elements in the distance list, that is what the argpartition function does\n",
    "        #See weighted KNN for argsort version, it makes a full sort - slower\n",
    "        k_ind=np.argpartition(d_t,k)\n",
    "        #Average the y value of the k nearest neighbours and use that as the predicted value \n",
    "        y=np.mean(y_train[k_ind][:k])\n",
    "        y_pred.append(y)\n",
    "    y_pred=np.array(y_pred)\n",
    "    return y_pred"
   ],
   "execution_count": 8,
   "outputs": []
  },
  {
   "cell_type": "code",
   "metadata": {
    "id": "faKwfuHbIxqo",
    "pycharm": {
     "name": "#%%\n"
    }
   },
   "source": [
    "y_pred0 = knn_regression(X_test, X_train, y_train.values, 20)"
   ],
   "execution_count": 9,
   "outputs": []
  },
  {
   "cell_type": "code",
   "metadata": {
    "colab": {
     "base_uri": "https://localhost:8080/",
     "height": 280
    },
    "id": "JKa_kNIfD9kR",
    "outputId": "012da5a4-1bda-4838-b37a-d8bf510c9bb3",
    "pycharm": {
     "name": "#%%\n"
    }
   },
   "source": [
    "plt.plot(y_test, y_pred0, \".\")\n",
    "xlabel(\"y_test\")\n",
    "ylabel(\"y_pred\");"
   ],
   "execution_count": 10,
   "outputs": [
    {
     "output_type": "display_data",
     "data": {
      "image/png": "[encoded data removed]",
      "text/plain": [
       "<Figure size 432x288 with 1 Axes>"
      ]
     },
     "metadata": {
      "needs_background": "light"
     }
    }
   ]
  },
  {
   "cell_type": "markdown",
   "metadata": {
    "id": "xTt5sv5QKtwT",
    "pycharm": {
     "name": "#%% md\n"
    }
   },
   "source": [
    "### 3. Weighted KNN regression"
   ]
  },
  {
   "cell_type": "code",
   "metadata": {
    "id": "0oCDhwUIK0vP",
    "pycharm": {
     "name": "#%%\n"
    }
   },
   "source": [
    "def knn_weighted_regression(x_test,x_train,y_train,k=10):\n",
    "    y_pred=[]\n",
    "    #for every instance in the test sample get the predicted value\n",
    "    for x2 in x_test:\n",
    "        #calculate the distance from all points in the training set\n",
    "        d_t=distances(x2,x_train)\n",
    "        #You can use argpartition here also, but let's make it with argsort\n",
    "        k_ind=np.argsort(d_t)[:k]\n",
    "        #Average the y values with the weights with the np.average function and use that as the predicted value \n",
    "        y=np.average(y_train[k_ind],weights=1/d_t[k_ind])\n",
    "        y_pred.append(y)\n",
    "    y_pred=np.array(y_pred)\n",
    "    return y_pred"
   ],
   "execution_count": 11,
   "outputs": []
  },
  {
   "cell_type": "code",
   "metadata": {
    "id": "MWCG2pdGLqke",
    "pycharm": {
     "name": "#%%\n"
    }
   },
   "source": [
    "y_pred1 = knn_weighted_regression(X_test, X_train, y_train.values, 20)"
   ],
   "execution_count": 12,
   "outputs": []
  },
  {
   "cell_type": "code",
   "metadata": {
    "colab": {
     "base_uri": "https://localhost:8080/",
     "height": 280
    },
    "id": "hbHvZwHQLvYA",
    "outputId": "e4cda160-888b-4358-e02a-71978fd64bac",
    "pycharm": {
     "name": "#%%\n"
    }
   },
   "source": [
    "plt.plot(y_test, y_pred1, \".\")\n",
    "xlabel(\"y_test\")\n",
    "ylabel(\"y_pred\");"
   ],
   "execution_count": 13,
   "outputs": [
    {
     "output_type": "display_data",
     "data": {
      "image/png": "[encoded data removed]",
      "text/plain": [
       "<Figure size 432x288 with 1 Axes>"
      ]
     },
     "metadata": {
      "needs_background": "light"
     }
    }
   ]
  },
  {
   "cell_type": "markdown",
   "metadata": {
    "id": "F3v0wC9HQLva",
    "pycharm": {
     "name": "#%% md\n"
    }
   },
   "source": [
    "### 4. KNN classification"
   ]
  },
  {
   "cell_type": "code",
   "metadata": {
    "id": "mIg-m6YxQOo5",
    "pycharm": {
     "name": "#%%\n"
    }
   },
   "source": [
    "def knn_classifier(X_train, y_train, X_test, k=20):\n",
    "    predictions = []\n",
    "    for i in X_test:\n",
    "        neighbor_idxs = np.argsort(((np.array(X_train) - np.array(i))**2).sum(1))[:k]        \n",
    "        predictions.append(np.array(y_train)[neighbor_idxs].mean(0))\n",
    "        \n",
    "    return np.array(predictions)"
   ],
   "execution_count": 14,
   "outputs": []
  },
  {
   "cell_type": "code",
   "metadata": {
    "id": "mtCh5eI9QU9L",
    "pycharm": {
     "name": "#%%\n"
    }
   },
   "source": [
    "y_pred2 = knn_classifier(X_train, y_train_ohe, X_test)"
   ],
   "execution_count": 15,
   "outputs": []
  },
  {
   "cell_type": "markdown",
   "metadata": {
    "id": "L1JOVgHZXy4L",
    "pycharm": {
     "name": "#%% md\n"
    }
   },
   "source": [
    "### 5. Compare"
   ]
  },
  {
   "cell_type": "code",
   "metadata": {
    "colab": {
     "base_uri": "https://localhost:8080/"
    },
    "id": "A49DwuS3X3yU",
    "outputId": "2cbe6fba-554a-4fc3-da96-fdddf66535e4",
    "pycharm": {
     "name": "#%%\n"
    }
   },
   "source": [
    "print(\"Accuracy of KNN regression: \", sum(around(y_pred0)==y_test)/len(y_test))\n",
    "print(\"Accuracy of weighted KNN regression: \", sum(around(y_pred1)==y_test)/len(y_test))\n",
    "print(\"Accuracy of KNN classification: \", sum(np.argmax(y_pred2, axis=1)==np.argmax(y_test_ohe, axis=1))/len(y_test))\n",
    "print(\"Baseline: \", sum(around([y_train.mean()]*len(y_test))==y_test)/len(y_test))"
   ],
   "execution_count": 16,
   "outputs": [
    {
     "output_type": "stream",
     "name": "stdout",
     "text": [
      "Accuracy of KNN regression:  0.6029411764705882\n",
      "Accuracy of weighted KNN regression:  0.6286764705882353\n",
      "Accuracy of KNN classification:  0.6066176470588235\n",
      "Baseline:  0.3786764705882353\n"
     ]
    }
   ]
  },
  {
   "cell_type": "code",
   "metadata": {
    "colab": {
     "base_uri": "https://localhost:8080/"
    },
    "id": "yXy1X7QGYUii",
    "outputId": "0ee60d99-3c56-4441-9d44-4e24cd5cabad",
    "pycharm": {
     "name": "#%%\n"
    }
   },
   "source": [
    "from sklearn.neighbors import KNeighborsRegressor, KNeighborsClassifier\n",
    "knn= KNeighborsRegressor(20, weights=\"uniform\")\n",
    "knn.fit(X_train, y_train)\n",
    "y_pred3 = knn.predict(X_test)\n",
    "print(\"Accuracy of built-in KNN regression: \", sum(around(y_pred3)==y_test)/len(y_test))\n",
    "\n",
    "knn= KNeighborsRegressor(20, weights=\"distance\")\n",
    "knn.fit(X_train, y_train)\n",
    "y_pred3 = knn.predict(X_test)\n",
    "print(\"Accuracy of built-in weighted KNN regression: \", sum(around(y_pred3)==y_test)/len(y_test))\n",
    "\n",
    "knn= KNeighborsClassifier(20, weights=\"uniform\")\n",
    "knn.fit(X_train, y_train)\n",
    "y_pred3 = knn.predict(X_test)\n",
    "print(\"Accuracy of built-in KNN classifier: \", sum(around(y_pred3)==y_test)/len(y_test))"
   ],
   "execution_count": 17,
   "outputs": [
    {
     "output_type": "stream",
     "name": "stdout",
     "text": [
      "Accuracy of built-in KNN regression:  0.6029411764705882\n",
      "Accuracy of built-in weighted KNN regression:  0.6286764705882353\n",
      "Accuracy of built-in KNN classifier:  0.6066176470588235\n"
     ]
    }
   ]
  },
  {
   "cell_type": "code",
   "metadata": {
    "id": "9j0Shs6kkN9B",
    "pycharm": {
     "name": "#%%\n"
    }
   },
   "source": [],
   "execution_count": 17,
   "outputs": []
  }
 ]
}