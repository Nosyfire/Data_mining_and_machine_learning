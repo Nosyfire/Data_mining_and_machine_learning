{
 "cells": [
  {
   "cell_type": "code",
   "execution_count": 1,
   "outputs": [],
   "source": [
    "import numpy as np\n",
    "import pandas as pd\n",
    "import seaborn as sns\n",
    "import matplotlib.pyplot as plt\n",
    "\n",
    "%matplotlib inline"
   ],
   "metadata": {
    "collapsed": false,
    "pycharm": {
     "name": "#%%\n"
    }
   }
  },
  {
   "cell_type": "code",
   "execution_count": 2,
   "outputs": [
    {
     "data": {
      "text/plain": "      fixed acidity  volatile acidity  citric acid  residual sugar  chlorides  \\\n0               7.4             0.700         0.00             1.9      0.076   \n1               7.8             0.880         0.00             2.6      0.098   \n2               7.8             0.760         0.04             2.3      0.092   \n3              11.2             0.280         0.56             1.9      0.075   \n4               7.4             0.700         0.00             1.9      0.076   \n...             ...               ...          ...             ...        ...   \n1594            6.2             0.600         0.08             2.0      0.090   \n1595            5.9             0.550         0.10             2.2      0.062   \n1596            6.3             0.510         0.13             2.3      0.076   \n1597            5.9             0.645         0.12             2.0      0.075   \n1598            6.0             0.310         0.47             3.6      0.067   \n\n      free sulfur dioxide  total sulfur dioxide  density    pH  sulphates  \\\n0                    11.0                  34.0  0.99780  3.51       0.56   \n1                    25.0                  67.0  0.99680  3.20       0.68   \n2                    15.0                  54.0  0.99700  3.26       0.65   \n3                    17.0                  60.0  0.99800  3.16       0.58   \n4                    11.0                  34.0  0.99780  3.51       0.56   \n...                   ...                   ...      ...   ...        ...   \n1594                 32.0                  44.0  0.99490  3.45       0.58   \n1595                 39.0                  51.0  0.99512  3.52       0.76   \n1596                 29.0                  40.0  0.99574  3.42       0.75   \n1597                 32.0                  44.0  0.99547  3.57       0.71   \n1598                 18.0                  42.0  0.99549  3.39       0.66   \n\n      alcohol  quality  \n0         9.4        5  \n1         9.8        5  \n2         9.8        5  \n3         9.8        6  \n4         9.4        5  \n...       ...      ...  \n1594     10.5        5  \n1595     11.2        6  \n1596     11.0        6  \n1597     10.2        5  \n1598     11.0        6  \n\n[1599 rows x 12 columns]",
      "text/html": "<div>\n<style scoped>\n    .dataframe tbody tr th:only-of-type {\n        vertical-align: middle;\n    }\n\n    .dataframe tbody tr th {\n        vertical-align: top;\n    }\n\n    .dataframe thead th {\n        text-align: right;\n    }\n</style>\n<table border=\"1\" class=\"dataframe\">\n  <thead>\n    <tr style=\"text-align: right;\">\n      <th></th>\n      <th>fixed acidity</th>\n      <th>volatile acidity</th>\n      <th>citric acid</th>\n      <th>residual sugar</th>\n      <th>chlorides</th>\n      <th>free sulfur dioxide</th>\n      <th>total sulfur dioxide</th>\n      <th>density</th>\n      <th>pH</th>\n      <th>sulphates</th>\n      <th>alcohol</th>\n      <th>quality</th>\n    </tr>\n  </thead>\n  <tbody>\n    <tr>\n      <th>0</th>\n      <td>7.4</td>\n      <td>0.700</td>\n      <td>0.00</td>\n      <td>1.9</td>\n      <td>0.076</td>\n      <td>11.0</td>\n      <td>34.0</td>\n      <td>0.99780</td>\n      <td>3.51</td>\n      <td>0.56</td>\n      <td>9.4</td>\n      <td>5</td>\n    </tr>\n    <tr>\n      <th>1</th>\n      <td>7.8</td>\n      <td>0.880</td>\n      <td>0.00</td>\n      <td>2.6</td>\n      <td>0.098</td>\n      <td>25.0</td>\n      <td>67.0</td>\n      <td>0.99680</td>\n      <td>3.20</td>\n      <td>0.68</td>\n      <td>9.8</td>\n      <td>5</td>\n    </tr>\n    <tr>\n      <th>2</th>\n      <td>7.8</td>\n      <td>0.760</td>\n      <td>0.04</td>\n      <td>2.3</td>\n      <td>0.092</td>\n      <td>15.0</td>\n      <td>54.0</td>\n      <td>0.99700</td>\n      <td>3.26</td>\n      <td>0.65</td>\n      <td>9.8</td>\n      <td>5</td>\n    </tr>\n    <tr>\n      <th>3</th>\n      <td>11.2</td>\n      <td>0.280</td>\n      <td>0.56</td>\n      <td>1.9</td>\n      <td>0.075</td>\n      <td>17.0</td>\n      <td>60.0</td>\n      <td>0.99800</td>\n      <td>3.16</td>\n      <td>0.58</td>\n      <td>9.8</td>\n      <td>6</td>\n    </tr>\n    <tr>\n      <th>4</th>\n      <td>7.4</td>\n      <td>0.700</td>\n      <td>0.00</td>\n      <td>1.9</td>\n      <td>0.076</td>\n      <td>11.0</td>\n      <td>34.0</td>\n      <td>0.99780</td>\n      <td>3.51</td>\n      <td>0.56</td>\n      <td>9.4</td>\n      <td>5</td>\n    </tr>\n    <tr>\n      <th>...</th>\n      <td>...</td>\n      <td>...</td>\n      <td>...</td>\n      <td>...</td>\n      <td>...</td>\n      <td>...</td>\n      <td>...</td>\n      <td>...</td>\n      <td>...</td>\n      <td>...</td>\n      <td>...</td>\n      <td>...</td>\n    </tr>\n    <tr>\n      <th>1594</th>\n      <td>6.2</td>\n      <td>0.600</td>\n      <td>0.08</td>\n      <td>2.0</td>\n      <td>0.090</td>\n      <td>32.0</td>\n      <td>44.0</td>\n      <td>0.99490</td>\n      <td>3.45</td>\n      <td>0.58</td>\n      <td>10.5</td>\n      <td>5</td>\n    </tr>\n    <tr>\n      <th>1595</th>\n      <td>5.9</td>\n      <td>0.550</td>\n      <td>0.10</td>\n      <td>2.2</td>\n      <td>0.062</td>\n      <td>39.0</td>\n      <td>51.0</td>\n      <td>0.99512</td>\n      <td>3.52</td>\n      <td>0.76</td>\n      <td>11.2</td>\n      <td>6</td>\n    </tr>\n    <tr>\n      <th>1596</th>\n      <td>6.3</td>\n      <td>0.510</td>\n      <td>0.13</td>\n      <td>2.3</td>\n      <td>0.076</td>\n      <td>29.0</td>\n      <td>40.0</td>\n      <td>0.99574</td>\n      <td>3.42</td>\n      <td>0.75</td>\n      <td>11.0</td>\n      <td>6</td>\n    </tr>\n    <tr>\n      <th>1597</th>\n      <td>5.9</td>\n      <td>0.645</td>\n      <td>0.12</td>\n      <td>2.0</td>\n      <td>0.075</td>\n      <td>32.0</td>\n      <td>44.0</td>\n      <td>0.99547</td>\n      <td>3.57</td>\n      <td>0.71</td>\n      <td>10.2</td>\n      <td>5</td>\n    </tr>\n    <tr>\n      <th>1598</th>\n      <td>6.0</td>\n      <td>0.310</td>\n      <td>0.47</td>\n      <td>3.6</td>\n      <td>0.067</td>\n      <td>18.0</td>\n      <td>42.0</td>\n      <td>0.99549</td>\n      <td>3.39</td>\n      <td>0.66</td>\n      <td>11.0</td>\n      <td>6</td>\n    </tr>\n  </tbody>\n</table>\n<p>1599 rows × 12 columns</p>\n</div>"
     },
     "execution_count": 2,
     "metadata": {},
     "output_type": "execute_result"
    }
   ],
   "source": [
    "df = pd.read_csv(\"winequality-red.csv\",sep=\";\")\n",
    "df"
   ],
   "metadata": {
    "collapsed": false,
    "pycharm": {
     "name": "#%%\n"
    }
   }
  },
  {
   "cell_type": "code",
   "execution_count": 3,
   "outputs": [
    {
     "data": {
      "text/plain": "fixed acidity           0\nvolatile acidity        0\ncitric acid             0\nresidual sugar          0\nchlorides               0\nfree sulfur dioxide     0\ntotal sulfur dioxide    0\ndensity                 0\npH                      0\nsulphates               0\nalcohol                 0\nquality                 0\ndtype: int64"
     },
     "execution_count": 3,
     "metadata": {},
     "output_type": "execute_result"
    }
   ],
   "source": [
    "df.isna().sum()"
   ],
   "metadata": {
    "collapsed": false,
    "pycharm": {
     "name": "#%%\n"
    }
   }
  },
  {
   "cell_type": "code",
   "execution_count": 4,
   "outputs": [
    {
     "data": {
      "text/plain": "fixed acidity           float64\nvolatile acidity        float64\ncitric acid             float64\nresidual sugar          float64\nchlorides               float64\nfree sulfur dioxide     float64\ntotal sulfur dioxide    float64\ndensity                 float64\npH                      float64\nsulphates               float64\nalcohol                 float64\nquality                   int64\ndtype: object"
     },
     "execution_count": 4,
     "metadata": {},
     "output_type": "execute_result"
    }
   ],
   "source": [
    "df.dtypes"
   ],
   "metadata": {
    "collapsed": false,
    "pycharm": {
     "name": "#%%\n"
    }
   }
  },
  {
   "cell_type": "code",
   "execution_count": 5,
   "outputs": [
    {
     "data": {
      "text/plain": "460"
     },
     "execution_count": 5,
     "metadata": {},
     "output_type": "execute_result"
    }
   ],
   "source": [
    "df.duplicated(keep=False).sum()"
   ],
   "metadata": {
    "collapsed": false,
    "pycharm": {
     "name": "#%%\n"
    }
   }
  },
  {
   "cell_type": "code",
   "execution_count": 6,
   "outputs": [
    {
     "data": {
      "text/plain": "      fixed acidity  volatile acidity  citric acid  residual sugar  chlorides  \\\n0               7.4             0.700         0.00             1.9      0.076   \n1               7.8             0.880         0.00             2.6      0.098   \n2               7.8             0.760         0.04             2.3      0.092   \n3              11.2             0.280         0.56             1.9      0.075   \n5               7.4             0.660         0.00             1.8      0.075   \n...             ...               ...          ...             ...        ...   \n1593            6.8             0.620         0.08             1.9      0.068   \n1594            6.2             0.600         0.08             2.0      0.090   \n1595            5.9             0.550         0.10             2.2      0.062   \n1597            5.9             0.645         0.12             2.0      0.075   \n1598            6.0             0.310         0.47             3.6      0.067   \n\n      free sulfur dioxide  total sulfur dioxide  density    pH  sulphates  \\\n0                    11.0                  34.0  0.99780  3.51       0.56   \n1                    25.0                  67.0  0.99680  3.20       0.68   \n2                    15.0                  54.0  0.99700  3.26       0.65   \n3                    17.0                  60.0  0.99800  3.16       0.58   \n5                    13.0                  40.0  0.99780  3.51       0.56   \n...                   ...                   ...      ...   ...        ...   \n1593                 28.0                  38.0  0.99651  3.42       0.82   \n1594                 32.0                  44.0  0.99490  3.45       0.58   \n1595                 39.0                  51.0  0.99512  3.52       0.76   \n1597                 32.0                  44.0  0.99547  3.57       0.71   \n1598                 18.0                  42.0  0.99549  3.39       0.66   \n\n      alcohol  quality  \n0         9.4        5  \n1         9.8        5  \n2         9.8        5  \n3         9.8        6  \n5         9.4        5  \n...       ...      ...  \n1593      9.5        6  \n1594     10.5        5  \n1595     11.2        6  \n1597     10.2        5  \n1598     11.0        6  \n\n[1359 rows x 12 columns]",
      "text/html": "<div>\n<style scoped>\n    .dataframe tbody tr th:only-of-type {\n        vertical-align: middle;\n    }\n\n    .dataframe tbody tr th {\n        vertical-align: top;\n    }\n\n    .dataframe thead th {\n        text-align: right;\n    }\n</style>\n<table border=\"1\" class=\"dataframe\">\n  <thead>\n    <tr style=\"text-align: right;\">\n      <th></th>\n      <th>fixed acidity</th>\n      <th>volatile acidity</th>\n      <th>citric acid</th>\n      <th>residual sugar</th>\n      <th>chlorides</th>\n      <th>free sulfur dioxide</th>\n      <th>total sulfur dioxide</th>\n      <th>density</th>\n      <th>pH</th>\n      <th>sulphates</th>\n      <th>alcohol</th>\n      <th>quality</th>\n    </tr>\n  </thead>\n  <tbody>\n    <tr>\n      <th>0</th>\n      <td>7.4</td>\n      <td>0.700</td>\n      <td>0.00</td>\n      <td>1.9</td>\n      <td>0.076</td>\n      <td>11.0</td>\n      <td>34.0</td>\n      <td>0.99780</td>\n      <td>3.51</td>\n      <td>0.56</td>\n      <td>9.4</td>\n      <td>5</td>\n    </tr>\n    <tr>\n      <th>1</th>\n      <td>7.8</td>\n      <td>0.880</td>\n      <td>0.00</td>\n      <td>2.6</td>\n      <td>0.098</td>\n      <td>25.0</td>\n      <td>67.0</td>\n      <td>0.99680</td>\n      <td>3.20</td>\n      <td>0.68</td>\n      <td>9.8</td>\n      <td>5</td>\n    </tr>\n    <tr>\n      <th>2</th>\n      <td>7.8</td>\n      <td>0.760</td>\n      <td>0.04</td>\n      <td>2.3</td>\n      <td>0.092</td>\n      <td>15.0</td>\n      <td>54.0</td>\n      <td>0.99700</td>\n      <td>3.26</td>\n      <td>0.65</td>\n      <td>9.8</td>\n      <td>5</td>\n    </tr>\n    <tr>\n      <th>3</th>\n      <td>11.2</td>\n      <td>0.280</td>\n      <td>0.56</td>\n      <td>1.9</td>\n      <td>0.075</td>\n      <td>17.0</td>\n      <td>60.0</td>\n      <td>0.99800</td>\n      <td>3.16</td>\n      <td>0.58</td>\n      <td>9.8</td>\n      <td>6</td>\n    </tr>\n    <tr>\n      <th>5</th>\n      <td>7.4</td>\n      <td>0.660</td>\n      <td>0.00</td>\n      <td>1.8</td>\n      <td>0.075</td>\n      <td>13.0</td>\n      <td>40.0</td>\n      <td>0.99780</td>\n      <td>3.51</td>\n      <td>0.56</td>\n      <td>9.4</td>\n      <td>5</td>\n    </tr>\n    <tr>\n      <th>...</th>\n      <td>...</td>\n      <td>...</td>\n      <td>...</td>\n      <td>...</td>\n      <td>...</td>\n      <td>...</td>\n      <td>...</td>\n      <td>...</td>\n      <td>...</td>\n      <td>...</td>\n      <td>...</td>\n      <td>...</td>\n    </tr>\n    <tr>\n      <th>1593</th>\n      <td>6.8</td>\n      <td>0.620</td>\n      <td>0.08</td>\n      <td>1.9</td>\n      <td>0.068</td>\n      <td>28.0</td>\n      <td>38.0</td>\n      <td>0.99651</td>\n      <td>3.42</td>\n      <td>0.82</td>\n      <td>9.5</td>\n      <td>6</td>\n    </tr>\n    <tr>\n      <th>1594</th>\n      <td>6.2</td>\n      <td>0.600</td>\n      <td>0.08</td>\n      <td>2.0</td>\n      <td>0.090</td>\n      <td>32.0</td>\n      <td>44.0</td>\n      <td>0.99490</td>\n      <td>3.45</td>\n      <td>0.58</td>\n      <td>10.5</td>\n      <td>5</td>\n    </tr>\n    <tr>\n      <th>1595</th>\n      <td>5.9</td>\n      <td>0.550</td>\n      <td>0.10</td>\n      <td>2.2</td>\n      <td>0.062</td>\n      <td>39.0</td>\n      <td>51.0</td>\n      <td>0.99512</td>\n      <td>3.52</td>\n      <td>0.76</td>\n      <td>11.2</td>\n      <td>6</td>\n    </tr>\n    <tr>\n      <th>1597</th>\n      <td>5.9</td>\n      <td>0.645</td>\n      <td>0.12</td>\n      <td>2.0</td>\n      <td>0.075</td>\n      <td>32.0</td>\n      <td>44.0</td>\n      <td>0.99547</td>\n      <td>3.57</td>\n      <td>0.71</td>\n      <td>10.2</td>\n      <td>5</td>\n    </tr>\n    <tr>\n      <th>1598</th>\n      <td>6.0</td>\n      <td>0.310</td>\n      <td>0.47</td>\n      <td>3.6</td>\n      <td>0.067</td>\n      <td>18.0</td>\n      <td>42.0</td>\n      <td>0.99549</td>\n      <td>3.39</td>\n      <td>0.66</td>\n      <td>11.0</td>\n      <td>6</td>\n    </tr>\n  </tbody>\n</table>\n<p>1359 rows × 12 columns</p>\n</div>"
     },
     "execution_count": 6,
     "metadata": {},
     "output_type": "execute_result"
    }
   ],
   "source": [
    "df = df.drop_duplicates()\n",
    "df"
   ],
   "metadata": {
    "collapsed": false,
    "pycharm": {
     "name": "#%%\n"
    }
   }
  },
  {
   "cell_type": "code",
   "execution_count": 7,
   "outputs": [
    {
     "name": "stdout",
     "output_type": "stream",
     "text": [
      "(1359, 11)\n",
      "(1359, 1)\n"
     ]
    }
   ],
   "source": [
    "X = df.iloc[:, :-1]\n",
    "y = df[[\"quality\"]]\n",
    "print(X.shape)\n",
    "print(y.shape)"
   ],
   "metadata": {
    "collapsed": false,
    "pycharm": {
     "name": "#%%\n"
    }
   }
  },
  {
   "cell_type": "code",
   "execution_count": 8,
   "outputs": [
    {
     "name": "stdout",
     "output_type": "stream",
     "text": [
      "(272, 11)\n",
      "(1087, 11)\n",
      "(272, 1)\n",
      "(1087, 1)\n"
     ]
    }
   ],
   "source": [
    "from sklearn.model_selection import train_test_split\n",
    "\n",
    "X_train, X_test ,y_train, y_test = train_test_split(X,y, test_size=0.2)\n",
    "print(X_test.shape)\n",
    "print(X_train.shape)\n",
    "print(y_test.shape)\n",
    "print(y_train.shape)"
   ],
   "metadata": {
    "collapsed": false,
    "pycharm": {
     "name": "#%%\n"
    }
   }
  },
  {
   "cell_type": "code",
   "execution_count": 9,
   "outputs": [
    {
     "data": {
      "text/plain": "      quality    0    1    2    3    4    5\n0           5  0.0  0.0  1.0  0.0  0.0  0.0\n1           5  0.0  0.0  1.0  0.0  0.0  0.0\n2           5  0.0  0.0  1.0  0.0  0.0  0.0\n3           5  0.0  0.0  1.0  0.0  0.0  0.0\n4           5  0.0  0.0  1.0  0.0  0.0  0.0\n...       ...  ...  ...  ...  ...  ...  ...\n1082        8  0.0  0.0  0.0  0.0  0.0  1.0\n1083        8  0.0  0.0  0.0  0.0  0.0  1.0\n1084        8  0.0  0.0  0.0  0.0  0.0  1.0\n1085        8  0.0  0.0  0.0  0.0  0.0  1.0\n1086        8  0.0  0.0  0.0  0.0  0.0  1.0\n\n[1087 rows x 7 columns]",
      "text/html": "<div>\n<style scoped>\n    .dataframe tbody tr th:only-of-type {\n        vertical-align: middle;\n    }\n\n    .dataframe tbody tr th {\n        vertical-align: top;\n    }\n\n    .dataframe thead th {\n        text-align: right;\n    }\n</style>\n<table border=\"1\" class=\"dataframe\">\n  <thead>\n    <tr style=\"text-align: right;\">\n      <th></th>\n      <th>quality</th>\n      <th>0</th>\n      <th>1</th>\n      <th>2</th>\n      <th>3</th>\n      <th>4</th>\n      <th>5</th>\n    </tr>\n  </thead>\n  <tbody>\n    <tr>\n      <th>0</th>\n      <td>5</td>\n      <td>0.0</td>\n      <td>0.0</td>\n      <td>1.0</td>\n      <td>0.0</td>\n      <td>0.0</td>\n      <td>0.0</td>\n    </tr>\n    <tr>\n      <th>1</th>\n      <td>5</td>\n      <td>0.0</td>\n      <td>0.0</td>\n      <td>1.0</td>\n      <td>0.0</td>\n      <td>0.0</td>\n      <td>0.0</td>\n    </tr>\n    <tr>\n      <th>2</th>\n      <td>5</td>\n      <td>0.0</td>\n      <td>0.0</td>\n      <td>1.0</td>\n      <td>0.0</td>\n      <td>0.0</td>\n      <td>0.0</td>\n    </tr>\n    <tr>\n      <th>3</th>\n      <td>5</td>\n      <td>0.0</td>\n      <td>0.0</td>\n      <td>1.0</td>\n      <td>0.0</td>\n      <td>0.0</td>\n      <td>0.0</td>\n    </tr>\n    <tr>\n      <th>4</th>\n      <td>5</td>\n      <td>0.0</td>\n      <td>0.0</td>\n      <td>1.0</td>\n      <td>0.0</td>\n      <td>0.0</td>\n      <td>0.0</td>\n    </tr>\n    <tr>\n      <th>...</th>\n      <td>...</td>\n      <td>...</td>\n      <td>...</td>\n      <td>...</td>\n      <td>...</td>\n      <td>...</td>\n      <td>...</td>\n    </tr>\n    <tr>\n      <th>1082</th>\n      <td>8</td>\n      <td>0.0</td>\n      <td>0.0</td>\n      <td>0.0</td>\n      <td>0.0</td>\n      <td>0.0</td>\n      <td>1.0</td>\n    </tr>\n    <tr>\n      <th>1083</th>\n      <td>8</td>\n      <td>0.0</td>\n      <td>0.0</td>\n      <td>0.0</td>\n      <td>0.0</td>\n      <td>0.0</td>\n      <td>1.0</td>\n    </tr>\n    <tr>\n      <th>1084</th>\n      <td>8</td>\n      <td>0.0</td>\n      <td>0.0</td>\n      <td>0.0</td>\n      <td>0.0</td>\n      <td>0.0</td>\n      <td>1.0</td>\n    </tr>\n    <tr>\n      <th>1085</th>\n      <td>8</td>\n      <td>0.0</td>\n      <td>0.0</td>\n      <td>0.0</td>\n      <td>0.0</td>\n      <td>0.0</td>\n      <td>1.0</td>\n    </tr>\n    <tr>\n      <th>1086</th>\n      <td>8</td>\n      <td>0.0</td>\n      <td>0.0</td>\n      <td>0.0</td>\n      <td>0.0</td>\n      <td>0.0</td>\n      <td>1.0</td>\n    </tr>\n  </tbody>\n</table>\n<p>1087 rows × 7 columns</p>\n</div>"
     },
     "execution_count": 9,
     "metadata": {},
     "output_type": "execute_result"
    }
   ],
   "source": [
    "from sklearn.preprocessing import OneHotEncoder\n",
    "\n",
    "catdf = pd.DataFrame(y_train[\"quality\"].unique().tolist(),columns=[\"quality\"])\n",
    "enc = OneHotEncoder()\n",
    "enc_df = pd.DataFrame(enc.fit_transform(catdf[['quality']]).toarray())\n",
    "type_one_hot = catdf.join(enc_df).sort_values(by=\"quality\")\n",
    "type_one_hot_train = y_train.merge(type_one_hot, on=\"quality\")\n",
    "type_one_hot_test = y_test.merge(type_one_hot, on=\"quality\")\n",
    "type_one_hot_train"
   ],
   "metadata": {
    "collapsed": false,
    "pycharm": {
     "name": "#%%\n"
    }
   }
  },
  {
   "cell_type": "code",
   "execution_count": 10,
   "outputs": [],
   "source": [
    "def normalize_mean(data):\n",
    "    return (data-data.mean())/data.std()"
   ],
   "metadata": {
    "collapsed": false,
    "pycharm": {
     "name": "#%%\n"
    }
   }
  },
  {
   "cell_type": "code",
   "execution_count": 11,
   "outputs": [
    {
     "name": "stdout",
     "output_type": "stream",
     "text": [
      "      fixed acidity  volatile acidity  citric acid  residual sugar  chlorides  \\\n",
      "1428      -0.284705          0.589202    -1.393113       -0.455693  -0.338689   \n",
      "1191      -1.042221          1.919089    -1.393113       -0.151735   1.528404   \n",
      "461        0.006647          0.453499    -0.251644        0.076234  -0.040749   \n",
      "1531      -1.275303          0.942029    -0.874264        0.228214  -0.159925   \n",
      "938       -0.634328         -0.822107     0.578515        0.228214  -0.418140   \n",
      "...             ...               ...          ...             ...        ...   \n",
      "661       -0.459517         -0.604982     0.215320       -0.683662  -0.179787   \n",
      "1533      -0.168164         -0.767826     0.163435       -0.455693  -0.298964   \n",
      "15         0.356270          0.480640    -0.407299        1.064099   1.607855   \n",
      "872       -0.576058         -0.984950    -0.147874       -0.379703  -0.438002   \n",
      "434        1.230327         -0.659263     1.460559        0.532172  -0.259238   \n",
      "\n",
      "      free sulfur dioxide  total sulfur dioxide   density        pH  \\\n",
      "1428             1.084179              0.245404 -0.255253  0.018060   \n",
      "1191            -0.942812             -1.044929 -0.627249  1.648601   \n",
      "461             -0.942812             -0.834875  0.822995 -0.308048   \n",
      "1531            -0.267149             -0.564805 -0.195950  1.909487   \n",
      "938              0.698085             -0.144697 -1.678541  0.213725   \n",
      "...                   ...                   ...       ...       ...   \n",
      "661             -0.074102             -0.144697  0.607345  0.018060   \n",
      "1533             1.566796              1.115628  0.267697  0.539833   \n",
      "15               3.400740              3.036124  1.038645 -0.895042   \n",
      "872              1.180702              0.035350 -0.492468  0.800720   \n",
      "434              0.601562              0.215396  1.577769 -1.025485   \n",
      "\n",
      "      sulphates   alcohol  \n",
      "1428  -0.175389  0.541779  \n",
      "1191  -0.875228  0.355379  \n",
      "461   -0.292029 -1.042617  \n",
      "1531  -0.000429 -0.203819  \n",
      "938    0.349490  2.312574  \n",
      "...         ...       ...  \n",
      "661   -0.117069 -1.322216  \n",
      "1533  -0.292029 -1.322216  \n",
      "15     1.574208 -1.135817  \n",
      "872   -0.700268 -0.390219  \n",
      "434    1.340929 -0.483418  \n",
      "\n",
      "[1087 rows x 11 columns]\n",
      "      fixed acidity  volatile acidity  citric acid  residual sugar  chlorides  \\\n",
      "282       -0.439100         -0.008867    -0.813766        0.256662  -0.385333   \n",
      "1073      -0.219146          0.552017     0.205583        0.054990   0.079312   \n",
      "231       -0.219146         -0.794104    -1.105009       -0.550025  -0.141948   \n",
      "1565      -0.933997          0.832459    -1.299171       -0.482801  -0.518088   \n",
      "756       -1.153952          2.571198    -1.347711       -0.415577  -0.606592   \n",
      "...             ...               ...          ...             ...        ...   \n",
      "266       -0.164157          1.954226    -1.396252        0.458334   0.256319   \n",
      "874        1.100581         -0.794104     0.836609       -0.348353   0.433327   \n",
      "528       -0.109169         -0.569751     0.982230       -0.012234  -0.009192   \n",
      "1495      -0.769032         -0.513662    -1.299171       -0.482801  -0.097696   \n",
      "113        0.935615         -1.186723     0.739528       -0.213906  -0.097696   \n",
      "\n",
      "      free sulfur dioxide  total sulfur dioxide   density            pH  \\\n",
      "282             -0.407221              0.182163  0.129738  2.475430e-01   \n",
      "1073            -0.036617             -0.291135  0.181794 -6.188576e-02   \n",
      "231             -0.407221              0.063839 -0.312738  3.094288e-01   \n",
      "1565             0.889890             -0.143229 -1.020701  4.332003e-01   \n",
      "756             -0.129268             -0.409460 -1.025907  1.732801e+00   \n",
      "...                   ...                   ...       ...           ...   \n",
      "266              0.889890              0.418813  1.769505  1.732801e+00   \n",
      "874             -0.963125             -1.089827 -0.109720 -1.237715e+00   \n",
      "528              1.445795              0.241326  1.014692  1.237715e-01   \n",
      "1495            -0.129268             -0.557366 -1.005084  1.856573e-01   \n",
      "113              0.519287             -0.024905  1.014692 -8.244840e-15   \n",
      "\n",
      "      sulphates   alcohol  \n",
      "282   -0.496551 -1.240328  \n",
      "1073  -0.436895  0.190719  \n",
      "231   -0.794833 -0.524805  \n",
      "1565   0.994858  0.369599  \n",
      "756   -1.152771  0.637921  \n",
      "...         ...       ...  \n",
      "266    0.398294 -0.614245  \n",
      "874   -0.019301  1.174563  \n",
      "528    0.577263 -1.598090  \n",
      "1495   0.935201  0.101278  \n",
      "113    0.100012 -0.703686  \n",
      "\n",
      "[272 rows x 11 columns]\n"
     ]
    }
   ],
   "source": [
    "X_train = normalize_mean(X_train)\n",
    "X_test = normalize_mean(X_test)\n",
    "print(X_train)\n",
    "print(X_test)"
   ],
   "metadata": {
    "collapsed": false,
    "pycharm": {
     "name": "#%%\n"
    }
   }
  },
  {
   "cell_type": "markdown",
   "source": [
    "## KNN regression"
   ],
   "metadata": {
    "collapsed": false,
    "pycharm": {
     "name": "#%% md\n"
    }
   }
  },
  {
   "cell_type": "code",
   "execution_count": 12,
   "outputs": [],
   "source": [
    "def euclidean_distance(x1, x2):\n",
    "    return np.linalg.norm(x1 - x2, axis=1)"
   ],
   "metadata": {
    "collapsed": false,
    "pycharm": {
     "name": "#%%\n"
    }
   }
  },
  {
   "cell_type": "code",
   "execution_count": 13,
   "outputs": [],
   "source": [
    "def knn (x_test, x_train, y_train, k=20):\n",
    "    neighbors = []\n",
    "    temp = []\n",
    "\n",
    "    for i in np.array( x_test):\n",
    "        distances = euclidean_distance(i,np.array( x_train))\n",
    "\n",
    "        enumerated_distances = list(enumerate(distances))\n",
    "        sorted_distances = sorted(enumerated_distances, key=lambda x: x[1])[:k]\n",
    "\n",
    "        for j in range(k):\n",
    "            temp.append(sorted_distances[j][0])\n",
    "\n",
    "        neighbors.append(temp)\n",
    "        temp = []\n",
    "\n",
    "    neighbors = np.array(neighbors)\n",
    "    y_pred = np.array(y_train)[neighbors].sum(axis=1)/k\n",
    "\n",
    "    return y_pred"
   ],
   "metadata": {
    "collapsed": false,
    "pycharm": {
     "name": "#%%\n"
    }
   }
  },
  {
   "cell_type": "code",
   "execution_count": 14,
   "outputs": [
    {
     "data": {
      "text/plain": "array([[5.5 ],\n       [5.3 ],\n       [5.55],\n       [5.8 ],\n       [5.4 ],\n       [5.35],\n       [5.5 ],\n       [5.3 ],\n       [5.5 ],\n       [5.9 ],\n       [6.5 ],\n       [6.4 ],\n       [5.85],\n       [5.25],\n       [5.45],\n       [6.65],\n       [5.35],\n       [5.15],\n       [4.95],\n       [6.05],\n       [5.5 ],\n       [5.1 ],\n       [5.35],\n       [6.7 ],\n       [5.15],\n       [6.4 ],\n       [5.35],\n       [6.65],\n       [5.95],\n       [5.85],\n       [5.4 ],\n       [5.4 ],\n       [6.45],\n       [4.95],\n       [5.5 ],\n       [6.45],\n       [5.95],\n       [6.3 ],\n       [5.35],\n       [5.4 ],\n       [5.95],\n       [5.7 ],\n       [5.9 ],\n       [5.75],\n       [5.6 ],\n       [5.3 ],\n       [5.85],\n       [5.35],\n       [5.4 ],\n       [5.3 ],\n       [5.35],\n       [5.7 ],\n       [6.15],\n       [6.1 ],\n       [5.2 ],\n       [5.7 ],\n       [5.45],\n       [5.85],\n       [5.9 ],\n       [5.95],\n       [6.4 ],\n       [5.8 ],\n       [5.  ],\n       [5.2 ],\n       [5.35],\n       [5.8 ],\n       [5.45],\n       [5.95],\n       [6.  ],\n       [5.2 ],\n       [5.25],\n       [6.05],\n       [6.35],\n       [6.05],\n       [5.4 ],\n       [5.15],\n       [5.5 ],\n       [5.05],\n       [5.3 ],\n       [5.4 ],\n       [5.05],\n       [5.6 ],\n       [5.8 ],\n       [5.85],\n       [5.45],\n       [5.6 ],\n       [5.4 ],\n       [6.05],\n       [5.15],\n       [5.45],\n       [5.95],\n       [5.35],\n       [5.55],\n       [5.4 ],\n       [5.65],\n       [6.8 ],\n       [5.2 ],\n       [5.1 ],\n       [6.65],\n       [5.45],\n       [5.95],\n       [5.35],\n       [6.25],\n       [5.4 ],\n       [5.55],\n       [5.7 ],\n       [4.9 ],\n       [5.4 ],\n       [6.15],\n       [5.25],\n       [5.45],\n       [5.4 ],\n       [6.3 ],\n       [6.05],\n       [6.5 ],\n       [6.65],\n       [6.3 ],\n       [5.5 ],\n       [5.3 ],\n       [5.65],\n       [5.55],\n       [5.45],\n       [5.3 ],\n       [5.25],\n       [6.05],\n       [6.35],\n       [5.5 ],\n       [5.1 ],\n       [5.55],\n       [5.85],\n       [5.55],\n       [5.25],\n       [5.6 ],\n       [5.8 ],\n       [5.65],\n       [6.05],\n       [5.35],\n       [5.35],\n       [5.1 ],\n       [5.85],\n       [5.05],\n       [5.9 ],\n       [5.15],\n       [5.2 ],\n       [6.25],\n       [5.6 ],\n       [5.5 ],\n       [6.1 ],\n       [5.45],\n       [6.05],\n       [5.3 ],\n       [5.65],\n       [6.3 ],\n       [6.2 ],\n       [5.05],\n       [5.75],\n       [6.6 ],\n       [6.5 ],\n       [6.15],\n       [5.2 ],\n       [5.85],\n       [5.25],\n       [6.4 ],\n       [5.5 ],\n       [5.05],\n       [5.1 ],\n       [5.3 ],\n       [5.75],\n       [5.45],\n       [5.45],\n       [5.4 ],\n       [6.  ],\n       [5.15],\n       [5.55],\n       [5.5 ],\n       [6.25],\n       [5.55],\n       [6.65],\n       [5.55],\n       [6.1 ],\n       [6.6 ],\n       [6.6 ],\n       [6.1 ],\n       [6.5 ],\n       [5.1 ],\n       [5.9 ],\n       [5.45],\n       [6.05],\n       [5.5 ],\n       [6.15],\n       [5.35],\n       [5.45],\n       [5.5 ],\n       [5.75],\n       [5.4 ],\n       [5.25],\n       [5.1 ],\n       [5.3 ],\n       [5.6 ],\n       [5.35],\n       [5.05],\n       [6.15],\n       [5.5 ],\n       [6.5 ],\n       [5.6 ],\n       [5.15],\n       [6.65],\n       [5.15],\n       [5.25],\n       [5.55],\n       [6.8 ],\n       [5.4 ],\n       [6.2 ],\n       [5.2 ],\n       [5.  ],\n       [5.55],\n       [5.9 ],\n       [5.3 ],\n       [6.15],\n       [5.15],\n       [5.6 ],\n       [5.05],\n       [5.15],\n       [5.25],\n       [5.3 ],\n       [5.7 ],\n       [5.7 ],\n       [6.35],\n       [6.5 ],\n       [5.05],\n       [5.55],\n       [5.55],\n       [5.95],\n       [6.25],\n       [5.85],\n       [5.15],\n       [5.95],\n       [6.  ],\n       [5.65],\n       [6.  ],\n       [5.9 ],\n       [5.35],\n       [5.05],\n       [6.15],\n       [5.35],\n       [5.85],\n       [5.1 ],\n       [5.15],\n       [5.3 ],\n       [5.6 ],\n       [6.2 ],\n       [5.35],\n       [5.3 ],\n       [5.65],\n       [5.85],\n       [6.85],\n       [6.4 ],\n       [5.85],\n       [5.15],\n       [5.55],\n       [5.35],\n       [6.  ],\n       [5.6 ],\n       [5.95],\n       [5.4 ],\n       [5.05],\n       [5.2 ],\n       [5.4 ],\n       [6.4 ],\n       [5.45],\n       [5.95],\n       [5.75]])"
     },
     "execution_count": 14,
     "metadata": {},
     "output_type": "execute_result"
    }
   ],
   "source": [
    "y_pred = knn(X_test, X_train, y_train, k=20)\n",
    "y_pred"
   ],
   "metadata": {
    "collapsed": false,
    "pycharm": {
     "name": "#%%\n"
    }
   }
  },
  {
   "cell_type": "code",
   "execution_count": 34,
   "outputs": [],
   "source": [
    "def plot_knn(x, y, xlabel, ylabel, tilte):\n",
    "    plt.figure(figsize=(20, 10))\n",
    "    sns.scatterplot(x=x, y=y)\n",
    "    plt.xlabel(xlabel)\n",
    "    plt.ylabel(ylabel)\n",
    "    plt.title(tilte, fontsize=20)\n",
    "    plt.show()"
   ],
   "metadata": {
    "collapsed": false,
    "pycharm": {
     "name": "#%%\n"
    }
   }
  },
  {
   "cell_type": "code",
   "execution_count": 40,
   "outputs": [
    {
     "data": {
      "text/plain": "<Figure size 2000x1000 with 1 Axes>",
      "image/png": "[encoded data removed]"
     },
     "metadata": {},
     "output_type": "display_data"
    }
   ],
   "source": [
    "plot_knn(x=y_test[\"quality\"].to_list(), y=y_pred.ravel(),xlabel=\"True\",ylabel=\"Predicted\",tilte=\"KNN regression - True and Predicted values\")"
   ],
   "metadata": {
    "collapsed": false,
    "pycharm": {
     "name": "#%%\n"
    }
   }
  },
  {
   "cell_type": "markdown",
   "source": [
    "# Weightened KNN"
   ],
   "metadata": {
    "collapsed": false,
    "pycharm": {
     "name": "#%% md\n"
    }
   }
  },
  {
   "cell_type": "code",
   "execution_count": 43,
   "outputs": [],
   "source": [
    "def knn_w(x_test, x_train, y_train, k=20):\n",
    "\n",
    "    neighbors = []\n",
    "    weights = []\n",
    "\n",
    "    for i in np.array(x_test):\n",
    "\n",
    "        temp = []\n",
    "        temp_weights = []\n",
    "\n",
    "        distances = euclidean_distance(i, np.array(x_train))\n",
    "        enumerated_distances = list(enumerate(distances))\n",
    "        sorted_distances = sorted(enumerated_distances, key=lambda x: x[1])[:k]\n",
    "\n",
    "        for j in range(k):\n",
    "            weight = 1 / sorted_distances[j][1]\n",
    "            temp.append(sorted_distances[j][0])\n",
    "            temp_weights.append(weight)\n",
    "\n",
    "        neighbors.append(temp)\n",
    "        weights.append(temp_weights)\n",
    "\n",
    "    neighbors = np.array(neighbors)\n",
    "    weights = np.array(weights)\n",
    "    y_pred = np.array(y_train)[neighbors]\n",
    "    y_pred = ((y_pred * weights).sum(axis=1) / weights.sum(axis=1))\n",
    "\n",
    "    return y_pred"
   ],
   "metadata": {
    "collapsed": false,
    "pycharm": {
     "name": "#%%\n"
    }
   }
  },
  {
   "cell_type": "code",
   "execution_count": 46,
   "outputs": [
    {
     "data": {
      "text/plain": "array([5.52256551, 5.26676873, 5.55956384, 5.81226837, 5.35169706,\n       5.3473453 , 5.4275191 , 5.31715697, 5.50161195, 5.91874932,\n       6.61437222, 6.45075094, 5.856925  , 5.2425114 , 5.41986438,\n       6.64885537, 5.35729681, 5.13754285, 4.94424266, 6.04219999,\n       5.48001683, 5.09063592, 5.29525388, 6.70990663, 5.12405117,\n       6.41722568, 5.3028882 , 6.67197911, 6.00097032, 5.8808621 ,\n       5.37890957, 5.35347675, 6.45948339, 4.93622864, 5.55054769,\n       6.53566235, 5.96904529, 6.3316512 , 5.32256265, 5.36813798,\n       5.94661288, 5.7382916 , 5.9804851 , 5.75695196, 5.55765461,\n       5.27310079, 5.83879318, 5.33694825, 5.42715049, 5.31082231,\n       5.34384295, 5.5765114 , 6.14214585, 6.1076543 , 5.18633738,\n       5.75104058, 5.4531281 , 5.87357501, 5.90890487, 5.94779324,\n       6.39259116, 5.78361748, 4.99098451, 5.17500677, 5.34670184,\n       5.81789295, 5.46948286, 5.94502073, 5.97953029, 5.21297089,\n       5.23321783, 6.10866245, 6.35627906, 6.05495292, 5.38811659,\n       5.13798027, 5.46896906, 5.03312626, 5.27369826, 5.4158967 ,\n       5.03729186, 5.58423033, 5.94384238, 5.84216629, 5.46220396,\n       5.62240897, 5.36129343, 5.98438869, 5.15497479, 5.45518946,\n       5.96230815, 5.81511835, 5.54542169, 5.39635855, 5.67785894,\n       6.86845026, 5.19762634, 5.09793383, 6.69729206, 5.46305091,\n       5.95580649, 5.3481368 , 6.30936185, 5.41366497, 5.54290724,\n       5.73135362, 4.95559015, 5.4231578 , 6.19193464, 5.32814   ,\n       5.45411699, 5.39676115, 6.32047255, 6.07321827, 6.48868879,\n       6.62334514, 6.31614913, 5.5022339 , 5.38419646, 5.66076912,\n       5.55413245, 5.45078428, 5.27250589, 5.22864564, 6.04775248,\n       6.35781501, 5.46318389, 5.09029578, 5.56614431, 5.84815127,\n       5.58651937, 5.28828595, 5.62032415, 5.81701218, 5.62387478,\n       6.05389017, 5.43840858, 5.33344488, 5.07114292, 5.86814331,\n       5.04172086, 5.88535019, 5.19418729, 5.21093044, 6.25248526,\n       5.60480657, 5.49036216, 6.09767936, 5.4427587 , 6.01863601,\n       5.28089048, 5.60518772, 6.35945284, 6.16794173, 5.04714537,\n       5.75863883, 6.60400737, 6.52364991, 6.1654174 , 5.17654665,\n       5.77511361, 5.2069809 , 6.41835558, 5.47646513, 4.99083491,\n       5.07739436, 5.27232942, 5.80346917, 5.45867244, 5.47550222,\n       5.34907113, 5.97347827, 5.13080146, 5.54915625, 5.51969309,\n       6.3046945 , 5.53219567, 6.6641482 , 5.50743346, 6.12230562,\n       6.58238287, 6.57567474, 6.07650566, 6.5938542 , 5.1131976 ,\n       5.8591925 , 5.43457314, 6.04530865, 5.47194719, 6.13156703,\n       5.3675151 , 5.55792614, 5.53314051, 5.76421392, 5.41965609,\n       5.27606934, 5.09056043, 5.29151709, 5.6061116 , 5.41781587,\n       5.05669611, 6.12246975, 5.47902438, 6.4899288 , 5.58332888,\n       5.14909502, 6.65867475, 5.15413142, 5.23326899, 5.50258511,\n       6.79955702, 5.38377348, 6.13922268, 5.19301991, 4.96712924,\n       5.51082694, 5.88937616, 5.30407896, 6.18229357, 5.12714001,\n       5.5752125 , 5.04308898, 5.14525852, 5.23113186, 5.26551725,\n       5.67984738, 5.72550217, 6.27761257, 6.7245867 , 5.04443689,\n       5.54904843, 5.56052116, 5.95633875, 6.2281423 , 5.8562986 ,\n       5.10255553, 5.93841433, 6.04515607, 5.5936683 , 6.03173977,\n       5.87268589, 5.364165  , 5.03795449, 6.19120756, 5.45451713,\n       5.91364296, 4.95673242, 5.1374851 , 5.33565972, 5.54498223,\n       6.18637465, 5.41170598, 5.35426391, 5.62047965, 5.92871994,\n       6.84901049, 6.4150978 , 5.83329965, 5.13952832, 5.55761109,\n       5.33545135, 6.02200722, 5.58867708, 5.92344107, 5.41610753,\n       5.06171535, 5.22696867, 5.39658112, 6.442025  , 5.44012687,\n       5.94704914, 5.76088631])"
     },
     "execution_count": 46,
     "metadata": {},
     "output_type": "execute_result"
    }
   ],
   "source": [
    "y_pred_w = knn_w(X_test, X_train, y_train.to_numpy().ravel(), k=20)\n",
    "y_pred_w"
   ],
   "metadata": {
    "collapsed": false,
    "pycharm": {
     "name": "#%%\n"
    }
   }
  },
  {
   "cell_type": "code",
   "execution_count": 49,
   "outputs": [
    {
     "data": {
      "text/plain": "<Figure size 2000x1000 with 1 Axes>",
      "image/png": "[encoded data removed]"
     },
     "metadata": {},
     "output_type": "display_data"
    }
   ],
   "source": [
    "plot_knn(x=y_test.to_numpy().ravel(), y=y_pred_w,xlabel=\"True\",ylabel=\"Predicted\",tilte=\"KNN Weighted regression - True and Predicted values\")"
   ],
   "metadata": {
    "collapsed": false,
    "pycharm": {
     "name": "#%%\n"
    }
   }
  },
  {
   "cell_type": "markdown",
   "source": [
    "# KNN classification"
   ],
   "metadata": {
    "collapsed": false,
    "pycharm": {
     "name": "#%% md\n"
    }
   }
  },
  {
   "cell_type": "code",
   "execution_count": 55,
   "outputs": [],
   "source": [
    "import operator\n",
    "def onehot_2_normal(X):\n",
    "    \"\"\"\n",
    "    Convert one-hot encoded matrix to 1D array of label indeces.\n",
    "    \"\"\"\n",
    "    return np.array([np.where(i == 1)[0][0]+3 for i in X])\n",
    "\n",
    "def knn_class(x_test, x_train, y_train, k=20):\n",
    "\n",
    "    neighbors = []\n",
    "\n",
    "\n",
    "    for i in np.array(x_test):\n",
    "        temp = []\n",
    "        distances = euclidean_distance(i, np.array(x_train))\n",
    "        enumerated_distances = list(enumerate(distances))\n",
    "        sorted_distances = sorted(enumerated_distances, key=lambda x: x[1])[:k]\n",
    "\n",
    "        for j in range(k):\n",
    "            temp.append(sorted_distances[j][0])\n",
    "\n",
    "        neighbors.append(temp)\n",
    "\n",
    "    neighbors = np.array(neighbors)\n",
    "    y_values = np.array(y_train)[neighbors]\n",
    "\n",
    "\n",
    "    y_vals_max = []\n",
    "    for i in y_values:\n",
    "        d = {}\n",
    "        for j in i:\n",
    "            if tuple(j) in d:\n",
    "                d[tuple(j)] += 1\n",
    "            else:\n",
    "                d[tuple(j)] = 1\n",
    "        y_vals_max.append(max(d, key=d.get))\n",
    "\n",
    "    y_vals_max = np.array(y_vals_max)\n",
    "\n",
    "    y_pred = onehot_2_normal(y_vals_max)\n",
    "\n",
    "    return y_pred"
   ],
   "metadata": {
    "collapsed": false,
    "pycharm": {
     "name": "#%%\n"
    }
   }
  },
  {
   "cell_type": "code",
   "execution_count": 56,
   "outputs": [
    {
     "data": {
      "text/plain": "array([7, 6, 7, 6, 6, 7, 6, 7, 6, 6, 7, 7, 6, 6, 6, 6, 6, 7, 6, 7, 7, 7,\n       6, 6, 6, 7, 7, 7, 6, 6, 6, 6, 6, 6, 7, 7, 6, 6, 6, 6, 6, 7, 7, 7,\n       7, 6, 6, 6, 7, 6, 6, 6, 6, 6, 7, 7, 7, 6, 7, 7, 6, 7, 6, 6, 7, 6,\n       6, 6, 7, 6, 6, 6, 7, 7, 7, 6, 6, 7, 7, 6, 6, 7, 7, 6, 6, 7, 6, 6,\n       7, 7, 6, 6, 6, 7, 6, 7, 7, 6, 6, 6, 6, 6, 6, 6, 6, 7, 6, 7, 7, 7,\n       7, 6, 7, 6, 6, 6, 6, 6, 7, 6, 6, 6, 6, 6, 7, 7, 6, 7, 7, 7, 6, 7,\n       6, 6, 7, 7, 7, 6, 6, 6, 6, 6, 6, 6, 7, 6, 6, 7, 6, 6, 6, 7, 7, 6,\n       6, 7, 7, 7, 7, 6, 6, 6, 6, 7, 6, 6, 7, 7, 7, 6, 6, 6, 6, 7, 7, 6,\n       7, 7, 6, 6, 6, 6, 6, 6, 6, 6, 6, 7, 6, 7, 7, 6, 7, 7, 6, 6, 6, 6,\n       6, 6, 6, 6, 6, 6, 6, 6, 7, 6, 6, 6, 6, 6, 7, 6, 6, 7, 7, 6, 7, 6,\n       6, 6, 6, 6, 6, 7, 6, 7, 6, 6, 6, 6, 7, 6, 6, 6, 7, 7, 6, 7, 7, 7,\n       6, 6, 7, 7, 6, 6, 7, 6, 6, 6, 6, 7, 7, 6, 6, 6, 7, 6, 6, 7, 6, 7,\n       6, 6, 6, 6, 7, 6, 6, 7], dtype=int64)"
     },
     "execution_count": 56,
     "metadata": {},
     "output_type": "execute_result"
    }
   ],
   "source": [
    "y_pred_class = knn_class(X_test, X_train, type_one_hot_train, k=20)\n",
    "y_pred_class"
   ],
   "metadata": {
    "collapsed": false,
    "pycharm": {
     "name": "#%%\n"
    }
   }
  },
  {
   "cell_type": "code",
   "execution_count": 85,
   "outputs": [],
   "source": [
    "def baseline(y_train, x_test):\n",
    "    y_pred = [(y_train.sum() / len((y_train)))] * len(x_test)\n",
    "    return np.array(y_pred).ravel()"
   ],
   "metadata": {
    "collapsed": false,
    "pycharm": {
     "name": "#%%\n"
    }
   }
  },
  {
   "cell_type": "code",
   "execution_count": 86,
   "outputs": [
    {
     "data": {
      "text/plain": "array([5.61085557, 5.61085557, 5.61085557, 5.61085557, 5.61085557,\n       5.61085557, 5.61085557, 5.61085557, 5.61085557, 5.61085557,\n       5.61085557, 5.61085557, 5.61085557, 5.61085557, 5.61085557,\n       5.61085557, 5.61085557, 5.61085557, 5.61085557, 5.61085557,\n       5.61085557, 5.61085557, 5.61085557, 5.61085557, 5.61085557,\n       5.61085557, 5.61085557, 5.61085557, 5.61085557, 5.61085557,\n       5.61085557, 5.61085557, 5.61085557, 5.61085557, 5.61085557,\n       5.61085557, 5.61085557, 5.61085557, 5.61085557, 5.61085557,\n       5.61085557, 5.61085557, 5.61085557, 5.61085557, 5.61085557,\n       5.61085557, 5.61085557, 5.61085557, 5.61085557, 5.61085557,\n       5.61085557, 5.61085557, 5.61085557, 5.61085557, 5.61085557,\n       5.61085557, 5.61085557, 5.61085557, 5.61085557, 5.61085557,\n       5.61085557, 5.61085557, 5.61085557, 5.61085557, 5.61085557,\n       5.61085557, 5.61085557, 5.61085557, 5.61085557, 5.61085557,\n       5.61085557, 5.61085557, 5.61085557, 5.61085557, 5.61085557,\n       5.61085557, 5.61085557, 5.61085557, 5.61085557, 5.61085557,\n       5.61085557, 5.61085557, 5.61085557, 5.61085557, 5.61085557,\n       5.61085557, 5.61085557, 5.61085557, 5.61085557, 5.61085557,\n       5.61085557, 5.61085557, 5.61085557, 5.61085557, 5.61085557,\n       5.61085557, 5.61085557, 5.61085557, 5.61085557, 5.61085557,\n       5.61085557, 5.61085557, 5.61085557, 5.61085557, 5.61085557,\n       5.61085557, 5.61085557, 5.61085557, 5.61085557, 5.61085557,\n       5.61085557, 5.61085557, 5.61085557, 5.61085557, 5.61085557,\n       5.61085557, 5.61085557, 5.61085557, 5.61085557, 5.61085557,\n       5.61085557, 5.61085557, 5.61085557, 5.61085557, 5.61085557,\n       5.61085557, 5.61085557, 5.61085557, 5.61085557, 5.61085557,\n       5.61085557, 5.61085557, 5.61085557, 5.61085557, 5.61085557,\n       5.61085557, 5.61085557, 5.61085557, 5.61085557, 5.61085557,\n       5.61085557, 5.61085557, 5.61085557, 5.61085557, 5.61085557,\n       5.61085557, 5.61085557, 5.61085557, 5.61085557, 5.61085557,\n       5.61085557, 5.61085557, 5.61085557, 5.61085557, 5.61085557,\n       5.61085557, 5.61085557, 5.61085557, 5.61085557, 5.61085557,\n       5.61085557, 5.61085557, 5.61085557, 5.61085557, 5.61085557,\n       5.61085557, 5.61085557, 5.61085557, 5.61085557, 5.61085557,\n       5.61085557, 5.61085557, 5.61085557, 5.61085557, 5.61085557,\n       5.61085557, 5.61085557, 5.61085557, 5.61085557, 5.61085557,\n       5.61085557, 5.61085557, 5.61085557, 5.61085557, 5.61085557,\n       5.61085557, 5.61085557, 5.61085557, 5.61085557, 5.61085557,\n       5.61085557, 5.61085557, 5.61085557, 5.61085557, 5.61085557,\n       5.61085557, 5.61085557, 5.61085557, 5.61085557, 5.61085557,\n       5.61085557, 5.61085557, 5.61085557, 5.61085557, 5.61085557,\n       5.61085557, 5.61085557, 5.61085557, 5.61085557, 5.61085557,\n       5.61085557, 5.61085557, 5.61085557, 5.61085557, 5.61085557,\n       5.61085557, 5.61085557, 5.61085557, 5.61085557, 5.61085557,\n       5.61085557, 5.61085557, 5.61085557, 5.61085557, 5.61085557,\n       5.61085557, 5.61085557, 5.61085557, 5.61085557, 5.61085557,\n       5.61085557, 5.61085557, 5.61085557, 5.61085557, 5.61085557,\n       5.61085557, 5.61085557, 5.61085557, 5.61085557, 5.61085557,\n       5.61085557, 5.61085557, 5.61085557, 5.61085557, 5.61085557,\n       5.61085557, 5.61085557, 5.61085557, 5.61085557, 5.61085557,\n       5.61085557, 5.61085557, 5.61085557, 5.61085557, 5.61085557,\n       5.61085557, 5.61085557, 5.61085557, 5.61085557, 5.61085557,\n       5.61085557, 5.61085557, 5.61085557, 5.61085557, 5.61085557,\n       5.61085557, 5.61085557, 5.61085557, 5.61085557, 5.61085557,\n       5.61085557, 5.61085557])"
     },
     "execution_count": 86,
     "metadata": {},
     "output_type": "execute_result"
    }
   ],
   "source": [
    "pred_baseline = baseline(y_train, X_test)\n",
    "pred_baseline"
   ],
   "metadata": {
    "collapsed": false,
    "pycharm": {
     "name": "#%%\n"
    }
   }
  },
  {
   "cell_type": "code",
   "execution_count": 104,
   "outputs": [],
   "source": [
    "def compute_accuracy(y_true, y_pred):\n",
    "\n",
    "    correct_predictions = 0\n",
    "\n",
    "    for true_val, predicted_val in zip(y_true, y_pred):\n",
    "        if true_val == int(round(predicted_val)):\n",
    "            correct_predictions += 1\n",
    "\n",
    "    accuracy = correct_predictions/len(y_true)\n",
    "\n",
    "    return accuracy"
   ],
   "metadata": {
    "collapsed": false,
    "pycharm": {
     "name": "#%%\n"
    }
   }
  },
  {
   "cell_type": "code",
   "execution_count": 105,
   "outputs": [
    {
     "name": "stdout",
     "output_type": "stream",
     "text": [
      "<class 'numpy.ndarray'> <class 'numpy.ndarray'> <class 'numpy.ndarray'> <class 'numpy.ndarray'> <class 'numpy.ndarray'>\n",
      "(272, 1) (272,) (272,) (272,)\n",
      "\n",
      " Baseline accuracy: 39.7059 %\n",
      " Uniform regression accuracy: 52.5735 % \n",
      " Weighted accuracy 54.7794 % \n",
      " Classification accuracy: 30.5147 %\n"
     ]
    }
   ],
   "source": [
    "acc_test = y_test.to_numpy().ravel()\n",
    "print(type(acc_test),type(y_pred),type(pred_baseline),type(y_pred_w),type(y_pred_class))\n",
    "print(y_pred.shape,acc_test.shape,y_pred_w.shape,y_pred_class.shape)\n",
    "acc_baseline = compute_accuracy(acc_test, pred_baseline.ravel())\n",
    "acc_uni = compute_accuracy(acc_test, y_pred.ravel())\n",
    "acc_weighted = compute_accuracy(acc_test, y_pred_w.ravel())\n",
    "acc_class = compute_accuracy(acc_test, y_pred_class.ravel())\n",
    "\n",
    "\n",
    "print(f'\\n Baseline accuracy: {round((acc_baseline*100), 4)} %\\\n",
    "\\n Uniform regression accuracy: {round((acc_uni*100), 4)} % \\\n",
    "\\n Weighted accuracy {round((acc_weighted*100), 4)} % \\\n",
    "\\n Classification accuracy: {round((acc_class*100), 4)} %')"
   ],
   "metadata": {
    "collapsed": false,
    "pycharm": {
     "name": "#%%\n"
    }
   }
  },
  {
   "cell_type": "code",
   "execution_count": 107,
   "outputs": [
    {
     "ename": "TypeError",
     "evalue": "type numpy.ndarray doesn't define __round__ method",
     "output_type": "error",
     "traceback": [
      "\u001B[1;31m---------------------------------------------------------------------------\u001B[0m",
      "\u001B[1;31mTypeError\u001B[0m                                 Traceback (most recent call last)",
      "Input \u001B[1;32mIn [107]\u001B[0m, in \u001B[0;36m<cell line: 7>\u001B[1;34m()\u001B[0m\n\u001B[0;32m      4\u001B[0m model\u001B[38;5;241m.\u001B[39mfit(X_train, y_train)\n\u001B[0;32m      5\u001B[0m pred_sci_uni \u001B[38;5;241m=\u001B[39m model\u001B[38;5;241m.\u001B[39mpredict(X_test)\n\u001B[0;32m      7\u001B[0m \u001B[38;5;28mprint\u001B[39m(\u001B[38;5;124mf\u001B[39m\u001B[38;5;124m'''\u001B[39m\n\u001B[0;32m      8\u001B[0m \u001B[38;5;124mKNN classification:\u001B[39m\n\u001B[0;32m      9\u001B[0m \n\u001B[0;32m     10\u001B[0m \u001B[38;5;124mBuilt in:\u001B[39m\n\u001B[0;32m     11\u001B[0m \u001B[38;5;132;01m{\u001B[39;00mpred_sci_uni\u001B[38;5;132;01m}\u001B[39;00m\n\u001B[0;32m     12\u001B[0m \u001B[38;5;124mMy prediction:\u001B[39m\n\u001B[0;32m     13\u001B[0m \u001B[38;5;132;01m{\u001B[39;00my_pred\u001B[38;5;132;01m}\u001B[39;00m\n\u001B[1;32m---> 14\u001B[0m \u001B[38;5;124mAccuracy built in: \u001B[39m\u001B[38;5;132;01m{\u001B[39;00m\u001B[38;5;28mround\u001B[39m((compute_accuracy(y_test,pred_sci_uni)\u001B[38;5;241m*\u001B[39m\u001B[38;5;241m100\u001B[39m), \u001B[38;5;241m4\u001B[39m)\u001B[38;5;132;01m}\u001B[39;00m\u001B[38;5;124m %\u001B[39m\n\u001B[0;32m     15\u001B[0m \u001B[38;5;124mAccuracy my prediction: \u001B[39m\u001B[38;5;132;01m{\u001B[39;00m\u001B[38;5;28mround\u001B[39m((acc_class\u001B[38;5;241m*\u001B[39m\u001B[38;5;241m100\u001B[39m), \u001B[38;5;241m4\u001B[39m)\u001B[38;5;132;01m}\u001B[39;00m\u001B[38;5;124m %\u001B[39m\u001B[38;5;124m'''\u001B[39m)\n",
      "Input \u001B[1;32mIn [104]\u001B[0m, in \u001B[0;36mcompute_accuracy\u001B[1;34m(y_true, y_pred)\u001B[0m\n\u001B[0;32m      3\u001B[0m correct_predictions \u001B[38;5;241m=\u001B[39m \u001B[38;5;241m0\u001B[39m\n\u001B[0;32m      5\u001B[0m \u001B[38;5;28;01mfor\u001B[39;00m true_val, predicted_val \u001B[38;5;129;01min\u001B[39;00m \u001B[38;5;28mzip\u001B[39m(y_true, y_pred):\n\u001B[1;32m----> 6\u001B[0m     \u001B[38;5;28;01mif\u001B[39;00m true_val \u001B[38;5;241m==\u001B[39m \u001B[38;5;28mint\u001B[39m(\u001B[38;5;28;43mround\u001B[39;49m\u001B[43m(\u001B[49m\u001B[43mpredicted_val\u001B[49m\u001B[43m)\u001B[49m):\n\u001B[0;32m      7\u001B[0m         correct_predictions \u001B[38;5;241m+\u001B[39m\u001B[38;5;241m=\u001B[39m \u001B[38;5;241m1\u001B[39m\n\u001B[0;32m      9\u001B[0m accuracy \u001B[38;5;241m=\u001B[39m correct_predictions\u001B[38;5;241m/\u001B[39m\u001B[38;5;28mlen\u001B[39m(y_true)\n",
      "\u001B[1;31mTypeError\u001B[0m: type numpy.ndarray doesn't define __round__ method"
     ]
    }
   ],
   "source": [
    "from sklearn import neighbors\n",
    "\n",
    "model = neighbors.KNeighborsRegressor(n_neighbors=20)\n",
    "model.fit(X_train, y_train)\n",
    "pred_sci_uni = model.predict(X_test)\n",
    "\n",
    "print(f'''\n",
    "KNN classification:\n",
    "\n",
    "Built in:\n",
    "{pred_sci_uni}\n",
    "My prediction:\n",
    "{y_pred}\n",
    "Accuracy built in: {round((compute_accuracy(y_test,pred_sci_uni)*100), 4)} %\n",
    "Accuracy my prediction: {round((acc_class*100), 4)} %''')\n"
   ],
   "metadata": {
    "collapsed": false,
    "pycharm": {
     "name": "#%%\n"
    }
   }
  },
  {
   "cell_type": "code",
   "execution_count": null,
   "outputs": [],
   "source": [],
   "metadata": {
    "collapsed": false,
    "pycharm": {
     "name": "#%%\n"
    }
   }
  },
  {
   "cell_type": "code",
   "execution_count": null,
   "outputs": [],
   "source": [
    "from sklearn.neighbors import KNeighborsRegressor\n",
    "from sklearn.metrics import mean_squared_error\n",
    "from math import sqrt\n",
    "\n",
    "\n",
    "\n",
    "def knn_regression(x_test, x_train, y_train, k=20):\n",
    "    rmse_val = [] #to store rmse values for different k\n",
    "    for K in range(k):\n",
    "        K = K+1\n",
    "        model = KNeighborsRegressor(n_neighbors = K)\n",
    "\n",
    "        model.fit(x_train, y_train)  #fit the model\n",
    "        y_pred = model.predict(x_test) #make prediction on test set\n",
    "        error = sqrt(mean_squared_error(y_test,y_pred)) #calculate rmse\n",
    "        rmse_val.append(error) #store rmse values\n",
    "    #plotting the rmse values against k values\n",
    "    curve = pd.DataFrame(rmse_val) #elbow curve\n",
    "    curve.plot()\n",
    "    return rmse_val"
   ],
   "metadata": {
    "collapsed": false,
    "pycharm": {
     "name": "#%%\n"
    }
   }
  },
  {
   "cell_type": "code",
   "execution_count": null,
   "outputs": [],
   "source": [
    "y_pred = knn_regression(x_test, x_train, y_train, k=20)"
   ],
   "metadata": {
    "collapsed": false,
    "pycharm": {
     "name": "#%%\n"
    }
   }
  },
  {
   "cell_type": "code",
   "execution_count": null,
   "outputs": [],
   "source": [
    "\n",
    "qualitydict = {key:values for key, values in enumerate(catdf['quality'].to_list())}\n",
    "\n",
    "X =[]\n",
    "Y =[]\n",
    "\n",
    "for i,row in y_test.iterrows():\n",
    "    for index, x in enumerate(row.values.flatten().tolist()):\n",
    "        if x == 1.0:\n",
    "            val = qualitydict[index]\n",
    "            print(val)\n",
    "            Y.append(val)\n",
    "\n",
    "for i in y_pred:\n",
    "    val = qualitydict[max(range(len(i)), key=i.__getitem__)]\n",
    "    print(val)\n",
    "    X.append(val)\n",
    "\n",
    "\n",
    "plt.scatter(X, Y, c =\"blue\")\n",
    "\n",
    "# To show the plot\n",
    "plt.show()"
   ],
   "metadata": {
    "collapsed": false,
    "pycharm": {
     "name": "#%%\n"
    }
   }
  },
  {
   "cell_type": "code",
   "execution_count": null,
   "outputs": [],
   "source": [
    "from sklearn.neighbors import KNeighborsRegressor, KNeighborsClassifier\n",
    "# knn= KNeighborsRegressor(20, weights=\"distance\")\n",
    "knn= KNeighborsClassifier(20, weights=\"uniform\")\n",
    "knn.fit(x_train, y_train)\n",
    "knn.predict(x_test)"
   ],
   "metadata": {
    "collapsed": false,
    "pycharm": {
     "name": "#%%\n"
    }
   }
  },
  {
   "cell_type": "code",
   "execution_count": null,
   "outputs": [],
   "source": [],
   "metadata": {
    "collapsed": false,
    "pycharm": {
     "name": "#%%\n"
    }
   }
  }
 ],
 "metadata": {
  "kernelspec": {
   "display_name": "Python 3",
   "language": "python",
   "name": "python3"
  },
  "language_info": {
   "codemirror_mode": {
    "name": "ipython",
    "version": 2
   },
   "file_extension": ".py",
   "mimetype": "text/x-python",
   "name": "python",
   "nbconvert_exporter": "python",
   "pygments_lexer": "ipython2",
   "version": "2.7.6"
  }
 },
 "nbformat": 4,
 "nbformat_minor": 0
}